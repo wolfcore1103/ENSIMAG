{
 "cells": [
  {
   "cell_type": "markdown",
   "metadata": {},
   "source": [
    "# Mini-stage d'analyse pour l'ingénieur\n",
    "\n",
    "**Brigitte Bidegaray-Fesquet, Cécile Legrand et Nathan Shourick**\n",
    "\n",
    "Tous les documents pour ce TP sont disponibles dans le dossier [Documents/TP Jupyter LaTeX](https://chamilo.grenoble-inp.fr/main/document/document.php?cidReq=ENSIMAG3MMAI&id_session=0&gidReq=0&gradebook=0&origin=&id=775120) sur Chamilo.\n",
    "\n",
    "### Le but de ce mini-stage est\n",
    "\n",
    "* de faire connaissance avec certaines librairies **python** pour le calcul scientifique ;\n",
    "* de faire connaissance avec l'écriture de formules en **LaTeX**, outil de traitement de texte utilisé notamment en mathématiques ;\n",
    "* de s'exercer au **compte-rendu de TP** sur des exercices en lien avec le cours d'analyse pour l'ingénieur;\n",
    "* de rédiger ce TP dans un *notebook* permettant de présenter conjointement les calculs et la démarche suivie, et permettant la reproductibilité de vos résultats.\n",
    "\n",
    "La partie 1 de ce sujet vous propose une introduction rapide au *notebook*. Prenez le temps de parcourir l'aide.\n",
    "    \n",
    "La partie 2 présente quelques librairies python pour les mathématiques avec une application aux sinusoïdes. Prenez le temps de répondre aux questions sur la représentation des vecteurs et des matrices. \n",
    "    \n",
    "La partie 3 introduit les séries de Fourier et vous permettra dans l'écriture des réponses de vous familiariser avec l'écriture des équations en LaTeX. Des exemples vous sont donnés en éditant les zones <i>markdown</i> de ce sujet. C'est le cœur du sujet avec les propriétés des séries de Fourier et leur illustration numérique sur un exemple.\n",
    "    \n",
    "Enfin la dernière partie est plus libre et vous donne quelques pistes d'exploration autour du sujet.\n",
    "\n",
    "La notation prendra en compte la qualité de la programmation du point de vue de l'utilisation du langage python et de l'algorithmique, et de la qualité de la rédaction, tant en ce qui concerne la présentation en LaTeX que le contenu scientifique.\n",
    "\n",
    "### Consignes pour le rendu \n",
    "\n",
    "* Travailler en binôme et déclarer ces binômes sur Teide. \n",
    "Les deux membres du binôme doivent être dans le même groupe de TP.\n",
    "* Modifier le présent *notebook* en rédigeant les réponses dans les cellules prédéfinies.\n",
    "* Renommer ce *notebook* &lt;NomBinome1-NomBinome2&gt;.ipynb et le déposer sur Teide.\n",
    "* Le *notebook* doit s'exécuter parfaitement et présenter l'analyse des résultats obtenus (et non leur paraphrase puisque les résultats sont déjà visibles dans le *notebook*) et des commentaires éventuels permettant la compréhension des choix algorithmiques effectués ou des difficultés rencontrées. \n",
    "Le compte-rendu doit néanmoins rester relativement concis.\n",
    "* Relisez-vous, soignez la présentation des figures et des formules mathématiques.\n",
    "\n",
    "<h3 align=center><font color=\"red\">Date limite de rendu : 12 janvier 2024 à 23h59</font></h3>\n",
    "\n",
    "Bon courage à tous, et <u>n'hésitez pas à faire appel aux encadrants</u> aussi souvent que nécessaire !"
   ]
  },
  {
   "cell_type": "markdown",
   "metadata": {},
   "source": [
    "## 1. Travailler dans un *notebook*\n",
    "\n",
    "L'utilisation d'un *notebook* permet de réunir en un même lieu, la description du problème à résoudre et des méthodes utilisées, le code correspondant, les sorties du code et en particulier ici des graphiques, et l'analyse des résultats obtenus. C'est un des outils pour permettre la reproductibilité de résultats. \n",
    "\n",
    "### 1.1. Types de cellules\n",
    "\n",
    "Il est constitué d'une succession de cellules notamment\n",
    "* **des cellules de texte** (`Markdown`) dont le formattage est un mélange de *markdown*, d'HTML et de LaTeX. Il suffit de double-cliquer sur une telle cellule pour voir comment elle est rédigée. `Maj`-`Entrée` permet d'interpréter le contenu de la cellule.\n",
    "* **des cellules de code**, dans lesquelles on rédige le code. Leur exécution peut afficher des résultats ou des courbes.\n",
    "\n",
    "### 1.2.  Formattage du texte\n",
    "\n",
    "N'hésitez pas à imiter ! Par exemple, dans cette cellule, vous pouvez voir comment coder en *markdown* \n",
    "* un titre (de niveau 2 et 3),\n",
    "* du texte en *italique*,\n",
    "* du texte en **gras**,\n",
    "* des commandes,\n",
    "* une liste.\n",
    "\n",
    "Dans la cellule au dessus, le changement de couleur de texte résulte de l'utilisation de commandes HTML (`<font color=red>...</font>`).\n",
    "\n",
    "LaTeX (prononcer latek...) est utilisé pour écrire les formules mathématiques, mais ce langage dépasse de loin cet usage. Il sert pour écrire des documents complets où tout le contenu et le formattage sont codés dans ce langage. Vous trouverez plus d'informations sur Chamilo. Vous trouverez également plus loin des exemples d'utilisation, dans la présentation des séries de Fourier. \n",
    "\n",
    "Pour un joli rendu, toutes les formules, même constituées d'un symbole unique, doivent être en LaTeX.\n",
    "Les formules *en ligne* doivent être encadrées par des dollars (`$formule$`). Il y a plusieurs façons de disposer des formules sur une ligne à part, ici nous utilisons `\\begin{equation}une ligne de formules\\end{equation}` pour une seule ligne et `\\begin{align}plusieurs lignes de formules\\end{align}` pour aligner avec `&` plusieurs lignes séparées par `\\\\`.\n",
    "\n",
    "\n",
    "### 1.3. L'aide\n",
    "\n",
    "Dans l'onglet `Help`, vous y trouverez notamment de l'aide sur\n",
    "* le fonctionnement d'un *notebook*,\n",
    "* le langage *markdown*,\n",
    "* quelques librairies python.\n",
    "\n",
    "Vous pouvez également accéder à la documentation de python en tapant `help()`.\n",
    "Laissez-vous guider. Essayez les recherches suivantes.\n",
    "* `print`\n",
    "* `symbols`\n",
    "\n",
    "N'oubliez pas de faire `quit` à la fin..."
   ]
  },
  {
   "cell_type": "code",
   "execution_count": 1,
   "metadata": {},
   "outputs": [],
   "source": [
    "#help()"
   ]
  },
  {
   "cell_type": "markdown",
   "metadata": {},
   "source": [
    "Vous pouvez aussi directement demander l'aide d'une fonction particulière."
   ]
  },
  {
   "cell_type": "code",
   "execution_count": 2,
   "metadata": {},
   "outputs": [
    {
     "name": "stdout",
     "output_type": "stream",
     "text": [
      "Help on built-in function print in module builtins:\n",
      "\n",
      "print(...)\n",
      "    print(value, ..., sep=' ', end='\\n', file=sys.stdout, flush=False)\n",
      "    \n",
      "    Prints the values to a stream, or to sys.stdout by default.\n",
      "    Optional keyword arguments:\n",
      "    file:  a file-like object (stream); defaults to the current sys.stdout.\n",
      "    sep:   string inserted between values, default a space.\n",
      "    end:   string appended after the last value, default a newline.\n",
      "    flush: whether to forcibly flush the stream.\n",
      "\n"
     ]
    }
   ],
   "source": [
    "help(print)"
   ]
  },
  {
   "cell_type": "markdown",
   "metadata": {},
   "source": [
    "## 2. Signaux sinusoïdaux purs\n",
    "\n",
    "L'analyse de Fourier est basée sur la représentation à l'aide de signaux sinusoïdaux purs. Un signal pur de fréquence $\\lambda$ s'écrit\n",
    "\\begin{equation}\n",
    "t \\mapsto \\sin(2\\pi\\lambda t).\n",
    "\\end{equation}\n",
    "En guise d'échauffement en python, nous allons voir comment les calculer numériquement et les représenter graphiquement. \n",
    "\n",
    "### 2.1. Librairies python utiles\n",
    "\n",
    "Pour le présent TP, nous aurons besoin d'un certain nombre de librairies pour les mathématiques.\n",
    "* la commande `%matplotlib inline` permet d'effectuer les graphismes en ligne dans le *notebook*,\n",
    "* `matplotlib.pyplot` contient les fonctions pour tracer les courbes,\n",
    "* `numpy` contient les fonctions pour le travail sur les tableaux et les matrices,\n",
    "* `math` contient les fonctions mathématiques usuelles.\n",
    "\n",
    "Dans ce TP, on utilisera systématiquement des objets `numpy` pour représenter les vecteurs et les matrices (et non des listes).\n",
    "À noter que les fonctions de base ont aussi des versions dans la librairie `numpy` qui s'appliquent aux objets (vecteurs, matrices) terme-à-terme. Pour savoir exactement ce que l'on utilise, on a intérêt à expliciter les librairies et à ne pas tout importer avec `*`.\n",
    "\n",
    "Commençons par importer les librairies nécessaires. \n",
    "À noter que ce qui est déjà importé dans un *notebook* n'est pas à ré-importer lors d'utilisations ultérieures. "
   ]
  },
  {
   "cell_type": "code",
   "execution_count": 3,
   "metadata": {},
   "outputs": [],
   "source": [
    "%matplotlib inline\n",
    "import matplotlib.pyplot as plt\n",
    "import numpy as np\n",
    "from math import pi, cos, sin"
   ]
  },
  {
   "cell_type": "markdown",
   "metadata": {},
   "source": [
    "Pour une implémentation numérique des fonctions, nous allons bien sûr devoir nous limiter à leur discrétisation, c'est-à-dire ici à leur représentation par leurs valeurs sur un ensemble discret et fini de points. Ces points ainsi que les valeurs de fonctions en ces points seront donc représentés par des vecteurs.\n",
    "\n",
    "### 2.2. Vecteurs et matrices\n",
    "\n",
    "La façon la plus simple de définir une matrice $n \\times m$ en python est d'entrer au clavier la liste de ses éléments, par exemple\n",
    "\n",
    "```\n",
    "A = np.array([[a11, a12, a13], [a21, a22, a23]])\n",
    "```\n",
    "\n",
    "**Opérations élémentaires**\n",
    "\n",
    "* `A[k, :]` une ligne de la matrice $A$       \n",
    "* `A + B` somme\n",
    "* `np.matmul(A, B)` ou `A@B` produit matriciel\n",
    "* `A * B` produit terme à terme\n",
    "* `np.linalg.det(A)` déterminant de $A$\n",
    "* `np.transpose(A)` transposée de $A$\n",
    "* `np.linalg.inv(A)` inverse de $A$\n",
    "\n",
    "En python, la numérotation commence à 0."
   ]
  },
  {
   "cell_type": "markdown",
   "metadata": {},
   "source": [
    "#### <font color=blue>Questions : Testez les opérations sur les matrices</font>\n",
    "\n",
    "Définir la matrice\n",
    "\\begin{equation}\n",
    "    M = \\begin{pmatrix}\n",
    "      1 & 0 & 3 & 1 \\\\\n",
    "      1 & 2 & 0 & 1 \\\\\n",
    "      0 & 1 & 3 & 0\n",
    "    \\end{pmatrix}.\n",
    "\\end{equation}\n",
    "1. Quelle est la commande donnant les dimensions de la matrice $M$ ?"
   ]
  },
  {
   "cell_type": "code",
   "execution_count": 4,
   "metadata": {},
   "outputs": [
    {
     "name": "stdout",
     "output_type": "stream",
     "text": [
      "(3, 4)\n"
     ]
    }
   ],
   "source": [
    "M = np.array([[1,0,3,1],[1,2,0,1], [0,1,3,0]])\n",
    "print(np.shape(M))"
   ]
  },
  {
   "cell_type": "markdown",
   "metadata": {},
   "source": [
    "2. Extraire la première ligne, la dernière colonne et l'élément à la deuxième ligne, troisième colonne de $M$."
   ]
  },
  {
   "cell_type": "code",
   "execution_count": 5,
   "metadata": {},
   "outputs": [
    {
     "name": "stdout",
     "output_type": "stream",
     "text": [
      "[1 0 3 1]\n",
      "[1 1 0]\n",
      "0\n"
     ]
    }
   ],
   "source": [
    "print(M[0])\n",
    "print(M[:, -1])\n",
    "print(M[1][2])"
   ]
  },
  {
   "cell_type": "markdown",
   "metadata": {},
   "source": [
    "3. À l'aide de fonctions de la librairie numpy, extraire la diagonale, les parties triangulaires supérieures et inférieures de $M$."
   ]
  },
  {
   "cell_type": "code",
   "execution_count": 6,
   "metadata": {},
   "outputs": [
    {
     "name": "stdout",
     "output_type": "stream",
     "text": [
      "la diagonale:  [1 2 3]\n",
      "la partie triangulaire inférieure:\n",
      " [[1 0 0 0]\n",
      " [1 2 0 0]\n",
      " [0 1 3 0]]\n",
      "la partie triangulaire supérieure:\n",
      " [[1 0 3 1]\n",
      " [0 2 0 1]\n",
      " [0 0 3 0]]\n"
     ]
    }
   ],
   "source": [
    "print('la diagonale: ',np.diagonal(M))\n",
    "print('la partie triangulaire inférieure:\\n',np.tril(M))\n",
    "print('la partie triangulaire supérieure:\\n',np.triu(M))"
   ]
  },
  {
   "cell_type": "markdown",
   "metadata": {},
   "source": [
    "4. En utilisant les fonctions `np.ones` et `np.diag`, définir la matrice identité $10\\times 10$.\n"
   ]
  },
  {
   "cell_type": "code",
   "execution_count": 7,
   "metadata": {},
   "outputs": [
    {
     "data": {
      "text/plain": [
       "array([[1., 0., 0., 0., 0., 0., 0., 0., 0., 0.],\n",
       "       [0., 1., 0., 0., 0., 0., 0., 0., 0., 0.],\n",
       "       [0., 0., 1., 0., 0., 0., 0., 0., 0., 0.],\n",
       "       [0., 0., 0., 1., 0., 0., 0., 0., 0., 0.],\n",
       "       [0., 0., 0., 0., 1., 0., 0., 0., 0., 0.],\n",
       "       [0., 0., 0., 0., 0., 1., 0., 0., 0., 0.],\n",
       "       [0., 0., 0., 0., 0., 0., 1., 0., 0., 0.],\n",
       "       [0., 0., 0., 0., 0., 0., 0., 1., 0., 0.],\n",
       "       [0., 0., 0., 0., 0., 0., 0., 0., 1., 0.],\n",
       "       [0., 0., 0., 0., 0., 0., 0., 0., 0., 1.]])"
      ]
     },
     "execution_count": 7,
     "metadata": {},
     "output_type": "execute_result"
    }
   ],
   "source": [
    "np.diag(np.diag(np.ones((10,10))))"
   ]
  },
  {
   "cell_type": "markdown",
   "metadata": {},
   "source": [
    "5. En utilisant ces mêmes fonctions, définir la matrice tridiagonale d'ordre $10$ suivante :\n",
    "\\begin{equation}\n",
    "      C = \\begin{pmatrix}\n",
    "          2 & -1& & \\mathbf{0} \\\\\n",
    "          1 & 2 & \\ddots & \\\\\n",
    "          & \\ddots & \\ddots & -1 \\\\\n",
    "          \\mathbf{0}& & 1 & 2 \\\\\n",
    "        \\end{pmatrix}\n",
    "\\end{equation}"
   ]
  },
  {
   "cell_type": "code",
   "execution_count": 8,
   "metadata": {},
   "outputs": [
    {
     "data": {
      "text/plain": [
       "array([[ 2., -1.,  0.,  0.,  0.,  0.,  0.,  0.,  0.,  0.],\n",
       "       [ 1.,  2., -1.,  0.,  0.,  0.,  0.,  0.,  0.,  0.],\n",
       "       [ 0.,  1.,  2., -1.,  0.,  0.,  0.,  0.,  0.,  0.],\n",
       "       [ 0.,  0.,  1.,  2., -1.,  0.,  0.,  0.,  0.,  0.],\n",
       "       [ 0.,  0.,  0.,  1.,  2., -1.,  0.,  0.,  0.,  0.],\n",
       "       [ 0.,  0.,  0.,  0.,  1.,  2., -1.,  0.,  0.,  0.],\n",
       "       [ 0.,  0.,  0.,  0.,  0.,  1.,  2., -1.,  0.,  0.],\n",
       "       [ 0.,  0.,  0.,  0.,  0.,  0.,  1.,  2., -1.,  0.],\n",
       "       [ 0.,  0.,  0.,  0.,  0.,  0.,  0.,  1.,  2., -1.],\n",
       "       [ 0.,  0.,  0.,  0.,  0.,  0.,  0.,  0.,  1.,  2.]])"
      ]
     },
     "execution_count": 8,
     "metadata": {},
     "output_type": "execute_result"
    }
   ],
   "source": [
    "diago = np.diag(np.diag(2*np.ones((10,10))))\n",
    "diago_sup = np.diag(np.diag(-np.ones((9,9))), k=1)\n",
    "diago_low = np.diag(np.diag(np.ones((9,9))), k=-1)\n",
    "diago+diago_sup+diago_low"
   ]
  },
  {
   "cell_type": "markdown",
   "metadata": {},
   "source": [
    "### 2.3. Définir et tracer des fonctions\n",
    "#### 2.3.1. Définition de fonctions\n",
    "\n",
    "Considérons par exemple la fonction \n",
    "\\begin{equation}\n",
    "f(x) = \\sin(2\\pi x)+\\cos(\\pi x).\n",
    "\\end{equation}\n",
    "Nous pouvons la définir ainsi en python\n",
    "```\n",
    "def f(x):\n",
    "     return sin(2 * pi * x) + cos(pi * x)\n",
    "```\n",
    "\n",
    "#### 2.3.2. Fonctions échantillonnées (= discrétisées)\n",
    "\n",
    "Pour le calcul numérique, une fonction peut être définie uniquement en des points de discrétisation de la variable $x$. Par exemple\n",
    "\n",
    "```\n",
    "x = np.linspace(0, 1, 11)\n",
    "```\n",
    "correspond à une discrétisation par pas de $0.1=1/(11-1)$, de l'intervalle $[0,1]$, soit 11 valeurs. On définit alors la fonction sur cette grille discrète. Avec l'exemple précédent, il vaut mieux redéfinir\n",
    "```\n",
    "def f(x):\n",
    "     return np.sin(2 * pi * x) + np.cos(pi * x)\n",
    "```\n",
    "et alors il suffit d'écrire\n",
    "```\n",
    "y = f(x)\n",
    "```\n",
    "pour calculer toutes les valeurs de la fonction $f$.\n",
    "\n",
    "#### 2.3.3. Tracé de courbes\n",
    "\n",
    "Pour tracer une courbe $y=x^2$ sur l'intervalle $[a,b]$ :\n",
    "```\n",
    "x = np.linspace(a, b, n) # x est échantillonné entre a et b avec un pas de (b-a)/(n-1)\n",
    "z = x**2\n",
    "plt.plot(x, z)\n",
    "```\n",
    "\n",
    "##### Pour varier le trait ou la couleur\n",
    "\n",
    "Par exemple, pour tracer en rouge :\n",
    "```\n",
    "plt.plot(x, z, 'r-')\n",
    "```\n",
    "Dans la chaîne de caractères (troisième argument), on donne une lettre imposant la couleur (`r` pour *red*, `b` pour *blue*, `g` pour *green*...) et un symbole pour le trait (`-` pour un trait continu (par défaut), `--` pour des tirets, `:` pour des pointillés...). Pour plus de détails, voir la documentation de `matplotlib.lines.Line2D`.\n",
    "\n",
    "##### Pour tracer plusieurs courbes, rajouter un titre, des axes, une légende\n",
    "\n",
    "```\n",
    "x = np.linspace(0, 10, 101)\n",
    "plt.plot(x, np.cos(x), 'r', label='cosinus')\n",
    "plt.plot(x, np.sin(x), 'b', label='sinus')\n",
    "plt.title('Graphe des fonctions cos et sin')   # titre\n",
    "plt.xlabel('temps')\n",
    "plt.ylabel('f(t)');                            # noms des axes\n",
    "plt.legend()                                   # légende qui utilise les labels\n",
    "```\n",
    "\n",
    "##### Pour tracer plusieurs graphes dans une fenêtre\n",
    "La commande `plt.subplot(n, m, p)`, placée avant un tracé de courbe, subdivise la fenêtre du graphe en une matrice $n\\times m$ de sous-fenêtres et sélectionne la $p$-ième pour dessiner le graphe courant&nbsp;: l'élément $(i, j)$ de la matrice correspond au graphe numéro $(i-1)n + j$.\n",
    "\n",
    "##### Pour exporter une figure\n",
    "La commande `plt.savefig('<fichier', format='pdf')`permet de sauver la figure courante au format pdf. D'autres formats sont possibles."
   ]
  },
  {
   "cell_type": "markdown",
   "metadata": {},
   "source": [
    "#### <font color = blue>Question : Testez le tracé de fonctions</font>\n",
    "\n",
    "Tracer avec deux couleurs différentes les courbes de la fonction sinus sur l'intervalle $[0,2\\pi]$ pour 6 points de discrétisation et 21 points de discrétisation. \n",
    "Ajouter un titre et une légende."
   ]
  },
  {
   "cell_type": "code",
   "execution_count": 9,
   "metadata": {},
   "outputs": [
    {
     "data": {
      "image/png": "[encoded data removed]",
      "text/plain": [
       "<Figure size 640x480 with 1 Axes>"
      ]
     },
     "metadata": {},
     "output_type": "display_data"
    }
   ],
   "source": [
    "def f(x):\n",
    "    return np.sin(x)\n",
    "\n",
    "x1 = np.linspace(0, 2*pi, 6)\n",
    "x2 = np.linspace(0, 2*pi, 21)\n",
    "plt.plot(x1, f(x1), 'b', label=\"6 points\")\n",
    "plt.plot(x2, f(x2), 'r', label=\"21 points\")\n",
    "plt.legend()\n",
    "plt.title(\"courbe sinus\")\n",
    "plt.grid()\n",
    "plt.show()"
   ]
  },
  {
   "cell_type": "markdown",
   "metadata": {},
   "source": [
    "## 3. Les séries de Fourier\n",
    "\n",
    "Pour en savoir plus : <br>\n",
    "[Ber14] Maïtine Bergounioux, [*Mathématiques pour le traitement du signal*](https://beluga.univ-grenoble-alpes.fr/permalink/33UGRENOBLE_INST/rgi2mt/alma991003269059706161), 2e édition, Dunod (2014).\n",
    "<br>\n",
    "[Sch01] Michelle Schatzman, [*Analyse numérique : une approche mathématique*](https://beluga.univ-grenoble-alpes.fr/permalink/33UGRENOBLE_INST/1vb34gl/alma991005329019706161), chapitre \"Du côté de chez Fourier\", Dunod (2001).\n",
    "\n",
    "### 3.1. Notations\n",
    "\n",
    "#### Polynômes trigonométriques\n",
    "\n",
    "On appelle $\\mathbb{T}_N$ l'espace vectoriel des polynômes trigonométriques de degré au plus $N$ qui s'écrivent sous la forme \n",
    "\\begin{equation}\n",
    "\\sum_{n=-N}^N c_n \\exp\\left(2i\\pi n\\dfrac tT\\right),\n",
    "\\end{equation}\n",
    "où pour $n\\in\\{-N,\\dots,N\\}$, $c_n$ est un nombre complexe. Ces polynômes trigonométriques sont clairement des fonctions périodiques de période $T$.\n",
    "\n",
    "#### Espaces fonctionnels\n",
    "\n",
    "On note $\\mathcal{C}_{\\rm per}^k$ l'espace des fonctions $k$ fois continûment différentiables, périodiques de période $T$. Un cas particulier est $\\mathcal{C}_{\\rm per}^0$, espace des fonctions continues, périodiques de période $T$.\n",
    "\n",
    "On note $\\mathcal{L}_{\\rm per}^1$ l'ensemble des fonctions Lebesgue-intégrables sur tout intervalle borné de $\\mathbb{R}$, périodiques de période $T$. On le munit de la norme\n",
    "\\begin{equation}\n",
    "\\|f\\|_1 = \\int_0^{T} |f(t)| dt.\n",
    "\\end{equation}\n",
    "\n",
    "On note $\\mathcal{L}_{\\rm per}^2$ l'ensemble des fonctions de carré Lebesgue-intégrables sur tout intervalle borné de $\\mathbb{R}$, périodiques de période $T$. On le munit de la norme\n",
    "\\begin{equation}\n",
    "\\|f\\|_2 = \\left(\\int_0^{T} |f(t)|^2 dt\\right)^{1/2}.\n",
    "\\end{equation}\n",
    "\n",
    "### 3.2. Coefficients de Fourier complexes\n",
    "\n",
    "Étant donné $f\\in\\mathcal{L}_{\\rm per}^1$, on définit le $n$-ième coefficient de Fourier par \n",
    "\\begin{equation}\n",
    "c_n(f) = \\frac 1T \\int_0^T f(t) \\exp\\left(-2i\\pi n\\dfrac tT\\right) dt.\n",
    "\\end{equation}\n",
    "On peut alors construire le polynôme trigonométrique\n",
    "\\begin{equation}\n",
    "S_N(t) = \\sum_{n=-N}^N c_n(f) \\exp\\left(2i\\pi n\\dfrac tT\\right).\n",
    "\\end{equation}\n",
    "\n",
    "Si de plus $f\\in\\mathcal{L}_{\\rm per}^2$, on peut montrer que $S_N$ réalise l'approximation au sens des moindres carrés de $f$ dans $\\mathbb{T}_N$, c'est-à-dire que\n",
    "\\begin{equation}\n",
    "\\forall P\\in\\mathbb{T}_N,\\ \\int_0^T |f-S_N|^2 dt \\leq \\int_0^T |f-P|^2 dt.\n",
    "\\end{equation}"
   ]
  },
  {
   "cell_type": "markdown",
   "metadata": {},
   "source": [
    "**<font color=blue>Question :</font>** \n",
    "Rappeler la formule de quadrature des rectangles à gauche permettant d'approcher l'intégrale $c_n(f)$ avec $J$ points de discrétisation régulièrement espacés. (Cela revient à généraliser à une intégrale sur $[0,T]$ la formule vue sur la première feuille de TD.) On utilisera ces points de discrétisation régulièrement espacés en temps dans la suite."
   ]
  },
  {
   "cell_type": "markdown",
   "metadata": {},
   "source": [
    "<font color = blue>\n",
    "\\begin{equation}\n",
    "c_n(f) \\approx \\frac{1}{J}\\sum_{k=0}^{J-1} f\\left(k\\frac{T}{J}\\right)\\exp\\left(-2i\\pi n\\frac{k}{J}\\right)\n",
    "\\end{equation}\n",
    "<font>"
   ]
  },
  {
   "cell_type": "markdown",
   "metadata": {},
   "source": [
    "**<font color=blue>Question :</font>** \n",
    "Définir une fonction `discreteFourier` qui prend en entrée \n",
    "* un vecteur `numpy` des valeurs d'une fonction $f$ discrétisée avec $J$ points sur $[0,T]$ \n",
    "* et le degré $N$ du polynôme trigonométrique,\n",
    "\n",
    "et retourne les coefficients de Fourier $c_n(f)$. "
   ]
  },
  {
   "cell_type": "code",
   "execution_count": 10,
   "metadata": {},
   "outputs": [],
   "source": [
    "def discreteFourier(fj, N):\n",
    "    J = np.size(fj)\n",
    "    coeffs = np.zeros(2*N, dtype=\"complex_\")\n",
    "    for n in range(-N, N):\n",
    "        c_n = 0+0j\n",
    "        for k in range(J):\n",
    "            c_n += fj[k]*np.exp(-2*1j*np.pi*n*k/J)\n",
    "        coeffs[n+N] = c_n/J\n",
    "    return coeffs"
   ]
  },
  {
   "cell_type": "markdown",
   "metadata": {},
   "source": [
    "**<font color = blue>Question :</font>** \n",
    "Définir une fonction `invFourier` qui prend en entrée \n",
    "* un vecteur `numpy` des coefficients de Fourier $c_n$ \n",
    "* et le nombre $J$ de points de discrétisation en temps, \n",
    "\n",
    "et retourne la somme partielle $S_N$ aux temps de discrétisation."
   ]
  },
  {
   "cell_type": "code",
   "execution_count": 11,
   "metadata": {},
   "outputs": [],
   "source": [
    "def invFourier(cn, J):\n",
    "    N = np.size(cn)//2\n",
    "    S_N = np.zeros(J, dtype=\"complex_\")\n",
    "    for temps in range(J):\n",
    "        somme = 0+0j\n",
    "        for j, coeff in enumerate(cn):\n",
    "            n = j-N \n",
    "            somme += coeff*np.exp(2*1j*pi*n*temps/J)\n",
    "        S_N[temps] = somme\n",
    "    return S_N"
   ]
  },
  {
   "cell_type": "markdown",
   "metadata": {},
   "source": [
    "### 3.3. Un exemple\n",
    "\n",
    "Soient $0<a\\leq T$ et un signal créneau, c'est-à-dire la fonction périodique de période $T$ définie sur $[-T/2,T/2]$ par\n",
    "\\begin{equation}\n",
    "f(t) = \\begin{cases}\n",
    "A & \\text{sur } \\left[-\\dfrac a2,\\dfrac a2\\right], \\\\\n",
    "0 & \\text{ailleurs.}\n",
    "\\end{cases}\n",
    "\\end{equation}"
   ]
  },
  {
   "cell_type": "markdown",
   "metadata": {},
   "source": [
    "**<font color = blue>Question :</font>** \n",
    "Définir cette fonction comme fonction python qui dépend de $t$, $a$, $T$ et $A$.<br>\n",
    "Tracer cette fonction sur l'intervalle $[-T,T]$, pour les valeurs $T=2$, $a=0,4$, $A=1,5$.\n",
    "(On gardera ces valeurs pour les illustrations numériques qui suivront.)"
   ]
  },
  {
   "cell_type": "code",
   "execution_count": 12,
   "metadata": {},
   "outputs": [
    {
     "data": {
      "image/png": "[encoded data removed]",
      "text/plain": [
       "<Figure size 640x480 with 1 Axes>"
      ]
     },
     "metadata": {},
     "output_type": "display_data"
    }
   ],
   "source": [
    "def f(t, a, T, A):\n",
    "    if -a/2 <= (t+T/2)%T-T/2 <= a/2:\n",
    "        return A\n",
    "    else:\n",
    "        return 0\n",
    "\n",
    "T = 2\n",
    "n = 4\n",
    "a = 0.4\n",
    "A = 1.5\n",
    "N = 1000\n",
    "x = np.linspace(-T, T, N)\n",
    "y = np.array([f(i, a, T, A) for i in x])\n",
    "plt.plot(x, y)\n",
    "plt.grid()\n",
    "plt.title(\"signal crenaux\")\n",
    "plt.show()"
   ]
  },
  {
   "cell_type": "markdown",
   "metadata": {},
   "source": [
    "**<font color = blue>Question :</font>** \n",
    "Calculer les coefficients de Fourier $c_n(f)$ pour la fonction créneau. "
   ]
  },
  {
   "cell_type": "markdown",
   "metadata": {},
   "source": [
    "<font color = white>\n",
    "\\begin{equation}\n",
    "c_n(f) = \\frac 1T\\int_0^Tf(t)\\exp\\left(-2i\\pi n\\dfrac tT\\right)dt = \\frac AT\\left(\\int_0^{a/2}\\exp\\left(-2i\\pi n\\dfrac tT\\right)dt+\\int_{T-a/2}^{T}\\exp\\left(-2i\\pi n\\dfrac tT\\right)dt\\right)=\\frac{iA}{\\pi n}\\left(\\exp\\left(-i\\pi n\\dfrac aT\\right)-\\exp\\left(i\\pi n\\dfrac aT\\right)\\right)=\\frac{A}{\\pi n}\\sin\\left(n\\pi\\frac{a}{T}\\right)\n",
    "\\end{equation}<font>"
   ]
  },
  {
   "cell_type": "markdown",
   "metadata": {},
   "source": [
    "**<font color = blue>Question :</font>** \n",
    "Calculer ces valeurs en utilisant `discreteFourier`.\n",
    "On prendra $J=100$ points de discrétisation et on calculera les coefficients jusqu'à $N=10$.\n",
    "Que pensez-vous de l'approximation ?"
   ]
  },
  {
   "cell_type": "code",
   "execution_count": 13,
   "metadata": {},
   "outputs": [
    {
     "name": "stdout",
     "output_type": "stream",
     "text": [
      "les valeurs exactes: \n",
      " [-1.16945155e-17+0.j -3.11829761e-02+0.j -5.67620046e-02+0.j\n",
      " -6.48708625e-02+0.j -4.67744642e-02+0.j  1.16945155e-17+0.j\n",
      "  7.01616963e-02+0.j  1.51365346e-01+0.j  2.27048019e-01+0.j\n",
      "  2.80646785e-01+0.j  3.00000000e-01+0.j  2.80646785e-01+0.j\n",
      "  2.27048019e-01+0.j  1.51365346e-01+0.j  7.01616963e-02+0.j\n",
      "  1.16945155e-17+0.j -4.67744642e-02+0.j -6.48708625e-02+0.j\n",
      " -5.67620046e-02+0.j -3.11829761e-02+0.j]\n",
      "les valeurs approximatives: \n",
      " [-1.79856130e-16+2.12052598e-16j -3.03475516e-02-8.81677878e-03j\n",
      " -5.55618086e-02-1.42658477e-02j -6.38217340e-02-1.42658477e-02j\n",
      " -4.62191730e-02-8.81677878e-03j -9.76996262e-17-4.94049246e-17j\n",
      "  6.97919905e-02+8.81677878e-03j  1.50916905e-01+1.42658477e-02j\n",
      "  2.26749157e-01+1.42658477e-02j  2.80554450e-01+8.81677878e-03j\n",
      "  3.00000000e-01+0.00000000e+00j  2.80554450e-01-8.81677878e-03j\n",
      "  2.26749157e-01-1.42658477e-02j  1.50916905e-01-1.42658477e-02j\n",
      "  6.97919905e-02-8.81677878e-03j -9.76996262e-17+4.94049246e-17j\n",
      " -4.62191730e-02+8.81677878e-03j -6.38217340e-02+1.42658477e-02j\n",
      " -5.55618086e-02+1.42658477e-02j -3.03475516e-02+8.81677878e-03j]\n"
     ]
    }
   ],
   "source": [
    "N = 10\n",
    "J = 100\n",
    "T = 2\n",
    "a = 0.4\n",
    "A = 1.5\n",
    "fj = np.zeros(J)\n",
    "for k in range(J):\n",
    "    fj[k] = f(k*T/J, a, T, A)\n",
    "coef_approx = discreteFourier(fj, N)\n",
    "def coef_exact():\n",
    "    test_coef = np.zeros(2*N, dtype=\"complex_\")\n",
    "    test_coef[N] = A*a/2\n",
    "    for n in range(1,N):\n",
    "        test_coef[n+N] = A*np.sin((pi*n*a)/T)/(pi*n)\n",
    "    for n in range(-N,0):\n",
    "        test_coef[n+N] = A*np.sin((pi*n*a)/T)/(pi*n)\n",
    "    return test_coef\n",
    "print('les valeurs exactes: \\n',coef_exact())\n",
    "print('les valeurs approximatives: \\n',coef_approx)"
   ]
  },
  {
   "cell_type": "markdown",
   "metadata": {},
   "source": [
    "<font color = blue>Les valeurs sont plutot coherentes entre la valeur exacte et la discretisation pour la partie réel, mais pour la partie imaginaire, on tend à s'approcher de 0 quand J tend vers  +∞<font>"
   ]
  },
  {
   "cell_type": "markdown",
   "metadata": {},
   "source": [
    "### 3.4. Coefficients réels\n",
    "\n",
    "Reprenons une fonction $f$ générique.\n",
    "En utilisant les formules d'Euler, on peut réécrire l'expression de $S_N$ sous la forme\n",
    "\\begin{equation}\n",
    "S_N(t) = a_0(f) + \\sum_{n=1}^N \\left(a_n(f) \\cos\\left(2\\pi n \\dfrac tT\\right) + b_n(f) \\sin\\left(2\\pi n \\dfrac tT\\right) \\right).\n",
    "\\end{equation} "
   ]
  },
  {
   "cell_type": "markdown",
   "metadata": {},
   "source": [
    "**<font color = blue>Question :</font>** \n",
    "Calculer les valeurs des $a_n(f)$ et des $b_n(f)$ en fonction des $c_n(f)$."
   ]
  },
  {
   "cell_type": "markdown",
   "metadata": {},
   "source": [
    "<font color = blue>\\begin{equation}\n",
    "a_n(f)=c_n(f)+c_{-n}(f) \\quad et \\quad b_n(f)=i(c_n(f)-c_{-n}(f))\n",
    "\\end{equation}<font>"
   ]
  },
  {
   "cell_type": "markdown",
   "metadata": {},
   "source": [
    "On peut également l'écrire\n",
    "\\begin{equation}\n",
    "S_N(t) = A_0(f) + \\sum_{n=1}^N A_n(f) \\cos\\left(2\\pi n \\frac tT + \\varphi_n(f)\\right).\n",
    "\\end{equation} "
   ]
  },
  {
   "cell_type": "markdown",
   "metadata": {},
   "source": [
    "**<font color = blue>Question :</font>** \n",
    "Calculer les valeurs des $A_n(f)$ et des $\\varphi_n(f)$ en fonction des $a_n(f)$ et des $b_n(f)$ d'une part, puis en fonction des $c_n(f)$."
   ]
  },
  {
   "cell_type": "markdown",
   "metadata": {},
   "source": [
    "<font color = blue>\\begin{equation}\n",
    "A_n(f)=\\sqrt{a_n^{2}+b_n^{2}} \\quad et \\quad \\varphi_n(f)=\\arctan\\left(-\\frac{b_n(f)}{a_n(f)}\\right)\n",
    "\\end{equation}\n",
    "donc\n",
    "\\begin{equation}\n",
    "A_n(f)=2\\sqrt{c_n(f)c_{-n}(f)}=2||c_n(f)\\| \\quad et \\quad \\varphi_n(f)=\\arctan\\left(-i\\frac{c_n(f)-c_{-n}(f)}{c_n(f)+c_{-n}(f)}\\right) = \\arg(c_n(f))\n",
    "\\end{equation}<font>"
   ]
  },
  {
   "cell_type": "markdown",
   "metadata": {},
   "source": [
    "**<font color = blue>Question :</font>** \n",
    "Représenter sur deux graphes côte-à-côte, $|c_n(f)|$ en fonction de $n$ et $\\arg(c_n(f))$ en fonction de $n$ pour la fonction créneau précédemment définie. "
   ]
  },
  {
   "cell_type": "code",
   "execution_count": 14,
   "metadata": {},
   "outputs": [
    {
     "data": {
      "image/png": "[encoded data removed]",
      "text/plain": [
       "<Figure size 640x480 with 2 Axes>"
      ]
     },
     "metadata": {},
     "output_type": "display_data"
    }
   ],
   "source": [
    "c_n = coef_exact()\n",
    "N = len(c_n)\n",
    "x = np.linspace(1, N, N)\n",
    "mod_cn = np.array([np.abs(z) for z in c_n])\n",
    "mod_cn_fourier = np.array([np.abs(z) for z in coef_approx])\n",
    "arg_cn = np.array([np.angle(z) for z in c_n])\n",
    "arg_cn_fourier = np.array([np.angle(z) for z in coef_approx])\n",
    "plt.subplot(1,2,1)\n",
    "plt.plot(x, mod_cn,'r',label='mod_cn')\n",
    "plt.plot(x,mod_cn_fourier,'--b',label='mod_cn_fourier')\n",
    "plt.title(\"module\")\n",
    "plt.legend(loc='upper right')\n",
    "plt.grid()\n",
    "plt.subplot(1,2,2)\n",
    "plt.plot(x, arg_cn,'r',label='arg_cn')\n",
    "plt.plot(x,arg_cn_fourier,'--b',label='arg_cn_fourier')\n",
    "plt.title(\"argument\")\n",
    "plt.legend(loc='lower right')\n",
    "plt.grid()\n",
    "plt.show()"
   ]
  },
  {
   "cell_type": "markdown",
   "metadata": {},
   "source": [
    "### 3.4. Convergence\n",
    "\n",
    "Tout l'intérêt des séries de Fourier est qu'elles convergent en un certain sens vers la fonction de départ. \n",
    "\n",
    "#### Inégalité de Bessel\n",
    "\n",
    "Soit $f\\in\\mathcal{L}_{\\rm per}^2(0,T)$ alors \n",
    "\\begin{equation}\n",
    "\\sum_{n=-N}^N |c_n|^2 \\leq \\frac1T \\int_0^T |f(t)|^2 dt.\n",
    "\\end{equation}\n",
    "\n",
    "#### Convergence des sommes partielles\n",
    "\n",
    "Par ailleurs, la suite $S_N$ des polynômes trigonométriques de meilleure approximation dans $\\mathbb{T}_N$ converge vers $f$ dans $\\mathcal{L}_{\\rm per}^2(0,T)$ :\n",
    "\\begin{equation}\n",
    "\\lim_{N\\to\\infty} \\|f-S_N\\|_2 = 0.  \n",
    "\\end{equation}\n",
    "Cela veut dire que la série $\\sum_{n\\in\\mathbb{Z}} c_n(f)\\exp(2i\\pi n t/T)$ converge normalement et donc presque partout vers $f$.\n",
    "\n",
    "#### Égalité de Parseval\n",
    "\n",
    "Soit $f\\in\\mathcal{L}_{\\rm per}^2(0,T)$, alors \n",
    "\\begin{equation}\n",
    "\\sum_{n=-\\infty}^\\infty |c_n|^2 = \\frac1T \\int_0^T |f(t)|^2 dt.\n",
    "\\end{equation}"
   ]
  },
  {
   "cell_type": "markdown",
   "metadata": {},
   "source": [
    "**<font color = blue>Question :</font>** \n",
    "Illustrer graphiquement l'inégalité de Bessel et l'égalité de Parseval sur l'exemple de la fonction créneau. "
   ]
  },
  {
   "cell_type": "code",
   "execution_count": 15,
   "metadata": {},
   "outputs": [
    {
     "data": {
      "image/png": "[encoded data removed]",
      "text/plain": [
       "<Figure size 640x480 with 1 Axes>"
      ]
     },
     "metadata": {},
     "output_type": "display_data"
    }
   ],
   "source": [
    "N = 100\n",
    "T = 2\n",
    "a = 0.4\n",
    "A = 1.5\n",
    "x = np.linspace(0, T, N)\n",
    "y1 = []\n",
    "somme = (a*A/T)**2\n",
    "y1.append(somme)\n",
    "for n in range(1,N):\n",
    "    somme += 2*(A*np.sin((pi*n*a)/T)/(pi*n))**2\n",
    "    y1.append(somme)\n",
    "y2 = [(a*A**2)/T for _ in range(N)]\n",
    "plt.plot(x, y1)\n",
    "plt.plot(x, y2)\n",
    "plt.grid()\n",
    "plt.show()"
   ]
  },
  {
   "cell_type": "markdown",
   "metadata": {},
   "source": [
    "<font color = blue>La convergence se produit à mesure que N augmente, conformément à la théorie. la somme des carrés des coefficients de Fourier converge effectivement vers la valeur théorique, ce qui confirme l'inégalité de Bessel pour la fonction créneau.</font>"
   ]
  },
  {
   "cell_type": "markdown",
   "metadata": {},
   "source": [
    "#### Théorème de Dirichlet\n",
    "\n",
    "Soit $f\\in\\mathcal{L}_{\\rm per}^1(0,T)$ et $t_0$ tel que $f$ admette des limites à droite et à gauche en $t_0$, respectivement notées $f(t_0^+)$ et $f(t_0^-)$, alors \n",
    "\\begin{equation}\n",
    "\\lim_{N\\to\\infty} \\sum_{n=-N}^N c_n(f)\\exp\\left(2i\\pi n \\dfrac {t_0}T\\right) = \\dfrac{f(t_0^+)+f(t_0^-)}2. \n",
    "\\end{equation}"
   ]
  },
  {
   "cell_type": "markdown",
   "metadata": {},
   "source": [
    "**<font color = blue>Question :</font>**  \n",
    "Toujours avec $N=10$ et $J=100$, tracer sur un même graphique la fonction créneau et sa somme de Fourier partielle de degré $N$."
   ]
  },
  {
   "cell_type": "code",
   "execution_count": 16,
   "metadata": {},
   "outputs": [
    {
     "data": {
      "image/png": "[encoded data removed]",
      "text/plain": [
       "<Figure size 640x480 with 1 Axes>"
      ]
     },
     "metadata": {},
     "output_type": "display_data"
    }
   ],
   "source": [
    "T = 2\n",
    "n = 4\n",
    "a = 0.4\n",
    "A = 1.5\n",
    "N = 10\n",
    "J = 100\n",
    "\n",
    "x1 = np.linspace(-T, T, J)\n",
    "x2 = np.linspace(0, T, J)\n",
    "\n",
    "c_n = coef_exact()\n",
    "y_creneau = np.array([f(i, a, T, A) for i in x1])\n",
    "y_fourier = invFourier(c_n, J)\n",
    "\n",
    "plt.plot(x1, y_creneau, label='Créneau')\n",
    "plt.plot(x2, np.real(y_fourier), label='Somme de Fourier partielle')\n",
    "plt.legend()\n",
    "plt.grid()\n",
    "plt.show()\n"
   ]
  },
  {
   "cell_type": "markdown",
   "metadata": {},
   "source": [
    "<font color = blue>on peut observer comment la somme de Fourier partielle approche la fonction créneau à mesure que N augmente. Les oscillations de la somme de Fourier tentent de reproduire la forme du créneau, mais certaines irrégularités persistent, en particulier près des points où la fonction créneau subit des sauts (points de discontinuité). Cela est conforme à la nature des phénomènes de Gibbs associés à l'approximation des fonctions discontinues par des séries de Fourier.</font>"
   ]
  },
  {
   "cell_type": "markdown",
   "metadata": {},
   "source": [
    "## 4. Calcul de sommes de séries"
   ]
  },
  {
   "cell_type": "markdown",
   "metadata": {},
   "source": [
    "On considère maintenant la fonction $g$, $2\\pi$ périodique, donnée par $g(x)=x^2$ sur l'intervalle $[-\\pi,\\pi]$."
   ]
  },
  {
   "cell_type": "markdown",
   "metadata": {},
   "source": [
    "**<font color = blue>Question :</font>**  \n",
    "Calculer les coefficients de Fourier $c_n(g)$. "
   ]
  },
  {
   "cell_type": "markdown",
   "metadata": {},
   "source": [
    "<font color = blue>\\begin{equation}\n",
    "c_n(g)=\\frac{1}{2\\pi}\\int_0^{2\\pi}t^2\\exp\\left(-int\\right)dt=\\frac{2}{n^2}+\\frac{2\\pi}{n}\n",
    "\\end{equation}</font>"
   ]
  },
  {
   "cell_type": "markdown",
   "metadata": {},
   "source": [
    "**<font color = blue>Question :</font>**  \n",
    "En utilisant les théorèmes de la question 3.4, expliquer comment calculer à l'aide de ces coefficients de Fourier les sommes des séries\n",
    "* $\\sum\\limits_{n=1}^{+\\infty} \\dfrac1{n^2}$,\n",
    "* $\\sum\\limits_{n=1}^{+\\infty} \\dfrac{(-1)^{n+1}}{n^2}$,\n",
    "* $\\sum\\limits_{n=1}^{+\\infty} \\dfrac1{n^4}$."
   ]
  },
  {
   "cell_type": "markdown",
   "metadata": {},
   "source": [
    "<font color = blue>1) On peut exprimer $S_N$ à l'aide des coefficients de Fourier de g, puis on utilise de théorème de Dirichlet evalué en $0$ pour trouver la première somme  <br>\n",
    "2) On fait la même chose que la première somme mais on évalue en $\\pi$ <br>\n",
    "3) On applique directement l'égalité de Perseval car le module des $c_n(g)$ est un facteur en $\\frac{1}{n^4}$ et en $\\frac{1}{n^2}$ or on connait la somme des $\\frac{1}{n^2}$ donc on peut en déduire la troisième somme </font>"
   ]
  },
  {
   "cell_type": "markdown",
   "metadata": {},
   "source": [
    "**<font color = blue>Question :</font>**  \n",
    "Calculer numériquement ces sommes en utilisant `discreteFourier` et `invFourier`. Discuter la qualité de l'approximation."
   ]
  },
  {
   "cell_type": "code",
   "execution_count": 17,
   "metadata": {},
   "outputs": [
    {
     "name": "stdout",
     "output_type": "stream",
     "text": [
      "[9.95561791+2.09433099j]\n",
      "[1.97392088e+01-3.15303339e-12j 4.44428632e+01-1.05027098e-12j\n",
      " 1.97787450e-05+1.07913678e-12j 4.96448515e+00+1.98729921e-13j]\n"
     ]
    }
   ],
   "source": [
    "J = 1000\n",
    "def g(x):\n",
    "    return (x%(pi))**2\n",
    "\n",
    "def somme_1():\n",
    "    x = np.linspace(-pi, pi, J)\n",
    "    coef_fourier = discreteFourier(g(x), 3)\n",
    "    somme = invFourier(coef_fourier, 1)\n",
    "    return somme\n",
    "\n",
    "def somme_2():\n",
    "    x = np.linspace(-pi, pi, J)\n",
    "    coef_fourier = discreteFourier(g(x), 1000)\n",
    "    somme = invFourier(coef_fourier, 4)\n",
    "    return somme\n",
    "\n",
    "print(somme_1())\n",
    "print(somme_2())"
   ]
  },
  {
   "cell_type": "markdown",
   "metadata": {},
   "source": [
    "<font color = blue>Les résultats théorique obtenus pour $\\sum\\limits_{n=1}^{+\\infty} \\dfrac1{n^2}= \\frac{\\pi²}{6}\\approx 1.64493$,\n",
    "    \n",
    "<font color = blue>$\\sum\\limits_{n=1}^{+\\infty} \\dfrac{(-1)^{n+1}}{n^2}= \\frac{\\pi²}{12}\\approx0.82264$\n",
    "\n",
    "<font color = blue>$\\sum\\limits_{n=1}^{+\\infty} \\dfrac1{n^4}= \\frac{\\pi⁴}{90}\\approx1.08232$\n",
    "</font>"
   ]
  },
  {
   "cell_type": "code",
   "execution_count": null,
   "metadata": {},
   "outputs": [],
   "source": []
  }
 ],
 "metadata": {
  "kernelspec": {
   "display_name": "Python 3 (ipykernel)",
   "language": "python",
   "name": "python3"
  },
  "language_info": {
   "codemirror_mode": {
    "name": "ipython",
    "version": 3
   },
   "file_extension": ".py",
   "mimetype": "text/x-python",
   "name": "python",
   "nbconvert_exporter": "python",
   "pygments_lexer": "ipython3",
   "version": "3.10.12"
  }
 },
 "nbformat": 4,
 "nbformat_minor": 4
}
